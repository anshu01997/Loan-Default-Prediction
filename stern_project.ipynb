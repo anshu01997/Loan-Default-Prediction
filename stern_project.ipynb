{
  "nbformat": 4,
  "nbformat_minor": 0,
  "metadata": {
    "colab": {
      "name": "stern_project",
      "provenance": [],
      "collapsed_sections": []
    },
    "kernelspec": {
      "name": "python3",
      "display_name": "Python 3"
    }
  },
  "cells": [
    {
      "cell_type": "code",
      "metadata": {
        "id": "S-bqhtqCk3B7",
        "colab_type": "code",
        "colab": {}
      },
      "source": [
        "import pandas as pd\n",
        "import numpy as np\n",
        "\n",
        "from sklearn.linear_model import LogisticRegression\n",
        "from sklearn.datasets import make_moons\n",
        "from sklearn.svm import SVC\n",
        "from sklearn.tree import DecisionTreeClassifier\n",
        "from sklearn.ensemble import RandomForestClassifier\n",
        "from sklearn import metrics\n",
        "from sklearn.metrics import f1_score\n",
        "from sklearn.model_selection import cross_val_score\n",
        "from sklearn.model_selection import GridSearchCV\n",
        "from sklearn.model_selection import train_test_split\n",
        "from sklearn.metrics import confusion_matrix\n",
        "from sklearn.metrics import accuracy_score\n",
        "from sklearn.metrics import precision_score\n",
        "from sklearn.metrics import precision_recall_fscore_support\n"
      ],
      "execution_count": null,
      "outputs": []
    },
    {
      "cell_type": "code",
      "metadata": {
        "id": "hBoyhNdl1u5q",
        "colab_type": "code",
        "colab": {}
      },
      "source": [
        "!pip install -U -q PyDrive\n",
        "from pydrive.auth import GoogleAuth\n",
        "from pydrive.drive import GoogleDrive\n",
        "from google.colab import auth\n",
        "from oauth2client.client import GoogleCredentials\n",
        "from sklearn.ensemble import GradientBoostingClassifier\n",
        "from xgboost import XGBClassifier"
      ],
      "execution_count": null,
      "outputs": []
    },
    {
      "cell_type": "code",
      "metadata": {
        "id": "T8LSR5-_2E3P",
        "colab_type": "code",
        "colab": {}
      },
      "source": [
        "# Authenticate and create the PyDrive client.\n",
        "auth.authenticate_user()\n",
        "gauth = GoogleAuth()\n",
        "gauth.credentials = GoogleCredentials.get_application_default()\n",
        "drive = GoogleDrive(gauth)"
      ],
      "execution_count": null,
      "outputs": []
    },
    {
      "cell_type": "code",
      "metadata": {
        "id": "PeTnRPgu2Slx",
        "colab_type": "code",
        "colab": {}
      },
      "source": [
        "link = 'https://drive.google.com/open?id=16hnqHPHGeIsv71pzu2iWu1l6UsD4tBaf' # The shareable link"
      ],
      "execution_count": null,
      "outputs": []
    },
    {
      "cell_type": "code",
      "metadata": {
        "id": "TW-c7_jC2e55",
        "colab_type": "code",
        "colab": {
          "base_uri": "https://localhost:8080/",
          "height": 35
        },
        "outputId": "7fb20382-e821-483a-f0fb-782b2ec886e7"
      },
      "source": [
        "fluff, id = link.split('=')\n",
        "print (id) # Verify that you have everything after '='"
      ],
      "execution_count": null,
      "outputs": [
        {
          "output_type": "stream",
          "text": [
            "16hnqHPHGeIsv71pzu2iWu1l6UsD4tBaf\n"
          ],
          "name": "stdout"
        }
      ]
    },
    {
      "cell_type": "code",
      "metadata": {
        "id": "QSPtA_j02jUJ",
        "colab_type": "code",
        "colab": {}
      },
      "source": [
        "downloaded = drive.CreateFile({'id':id}) \n",
        "downloaded.GetContentFile('Cleaned_data.csv')  \n",
        "df = pd.read_csv('Cleaned_data.csv')\n",
        "# Dataset is now stored in a Pandas Dataframe\n",
        "df=pd.DataFrame(df)"
      ],
      "execution_count": null,
      "outputs": []
    },
    {
      "cell_type": "code",
      "metadata": {
        "id": "IpqrPKTW2zLd",
        "colab_type": "code",
        "colab": {}
      },
      "source": [
        "df1 = df[df.TARGET == 1].sample(10000)\n",
        "df2 = df[df.TARGET == 0].sample(40000)\n",
        "\n"
      ],
      "execution_count": null,
      "outputs": []
    },
    {
      "cell_type": "code",
      "metadata": {
        "id": "iWCzsn3O3GiP",
        "colab_type": "code",
        "colab": {}
      },
      "source": [
        "(df1.TARGET == 1).sum()\n",
        "(df2.TARGET == 0).sum()\n",
        "\n",
        "\n",
        "frames = [df1, df2]\n",
        "\n",
        "df = pd.concat(frames)\n",
        "\n",
        "\n",
        "(df.TARGET == 1).sum()\n",
        "(df.TARGET == 0).sum()\n",
        "\n",
        "df = pd.get_dummies(df)\n",
        "\n",
        "df = df.drop(columns=[\"CODE_GENDER_F\", \"FLAG_OWN_CAR_Y\", \"FLAG_OWN_CAR_Y\"],axis=1)\n"
      ],
      "execution_count": null,
      "outputs": []
    },
    {
      "cell_type": "code",
      "metadata": {
        "id": "LJ2YrsZp3PWf",
        "colab_type": "code",
        "colab": {}
      },
      "source": [
        "link = 'https://drive.google.com/open?id=1rG7Teq_NwZ0wP063KMilyWuxexgpUujy' # The shareable link"
      ],
      "execution_count": null,
      "outputs": []
    },
    {
      "cell_type": "code",
      "metadata": {
        "id": "A--uaY9m3vrO",
        "colab_type": "code",
        "colab": {
          "base_uri": "https://localhost:8080/",
          "height": 35
        },
        "outputId": "56f8f0dc-5467-42c2-acfe-5996882f95ee"
      },
      "source": [
        "fluff, id = link.split('=')\n",
        "print (id) # Verify that you have everything after '='\n"
      ],
      "execution_count": null,
      "outputs": [
        {
          "output_type": "stream",
          "text": [
            "1rG7Teq_NwZ0wP063KMilyWuxexgpUujy\n"
          ],
          "name": "stdout"
        }
      ]
    },
    {
      "cell_type": "code",
      "metadata": {
        "id": "SP_sPU6U3zC5",
        "colab_type": "code",
        "colab": {}
      },
      "source": [
        "downloaded = drive.CreateFile({'id':id}) \n",
        "downloaded.GetContentFile('Sampled_data.csv') "
      ],
      "execution_count": null,
      "outputs": []
    },
    {
      "cell_type": "code",
      "metadata": {
        "id": "a8GV8L9538Ss",
        "colab_type": "code",
        "colab": {}
      },
      "source": [
        "df.to_csv('Sampled_data.csv')"
      ],
      "execution_count": null,
      "outputs": []
    },
    {
      "cell_type": "code",
      "metadata": {
        "id": "vQkqkloS4DG4",
        "colab_type": "code",
        "colab": {}
      },
      "source": [
        "df=pd.read_csv('Sampled_data.csv')"
      ],
      "execution_count": null,
      "outputs": []
    },
    {
      "cell_type": "code",
      "metadata": {
        "id": "0tnLFwqn4QCG",
        "colab_type": "code",
        "colab": {}
      },
      "source": [
        "\n",
        "X_train, X_test, y_train, y_test = \\\n",
        "        train_test_split(df.loc[:, df.columns != 'TARGET'], \n",
        "                         df['TARGET'], test_size=.33, random_state=42)"
      ],
      "execution_count": null,
      "outputs": []
    },
    {
      "cell_type": "code",
      "metadata": {
        "id": "oy2QFzfo4WuG",
        "colab_type": "code",
        "colab": {
          "base_uri": "https://localhost:8080/",
          "height": 155
        },
        "outputId": "6c004231-6500-484d-a125-6a5444a70414"
      },
      "source": [
        "clf = RandomForestClassifier(max_depth=4, n_estimators=4, \n",
        "                             max_features='sqrt', random_state=42)\n",
        "clf.fit(X_train, y_train)"
      ],
      "execution_count": null,
      "outputs": [
        {
          "output_type": "execute_result",
          "data": {
            "text/plain": [
              "RandomForestClassifier(bootstrap=True, ccp_alpha=0.0, class_weight=None,\n",
              "                       criterion='gini', max_depth=4, max_features='sqrt',\n",
              "                       max_leaf_nodes=None, max_samples=None,\n",
              "                       min_impurity_decrease=0.0, min_impurity_split=None,\n",
              "                       min_samples_leaf=1, min_samples_split=2,\n",
              "                       min_weight_fraction_leaf=0.0, n_estimators=4,\n",
              "                       n_jobs=None, oob_score=False, random_state=42, verbose=0,\n",
              "                       warm_start=False)"
            ]
          },
          "metadata": {
            "tags": []
          },
          "execution_count": 23
        }
      ]
    },
    {
      "cell_type": "code",
      "metadata": {
        "id": "A2UjhhH94crj",
        "colab_type": "code",
        "colab": {
          "base_uri": "https://localhost:8080/",
          "height": 35
        },
        "outputId": "6f1ed40c-f906-4f06-9bcc-2de775d2ec7c"
      },
      "source": [
        "y_pred = clf.predict(X_test)\n",
        "f1 = f1_score(y_test, y_pred) \n",
        "print('f1 score Random Forest is = ' + str(f1))\n"
      ],
      "execution_count": null,
      "outputs": [
        {
          "output_type": "stream",
          "text": [
            "f1 score Random Forest is = 0.0035492457852706297\n"
          ],
          "name": "stdout"
        }
      ]
    },
    {
      "cell_type": "code",
      "metadata": {
        "id": "WEWTX2yD4fOg",
        "colab_type": "code",
        "colab": {
          "base_uri": "https://localhost:8080/",
          "height": 52
        },
        "outputId": "fbe4b95c-9de5-4978-9184-caf08e1bd159"
      },
      "source": [
        "cm_random_forest_classifier = confusion_matrix(y_test,y_pred)\n",
        "print(cm_random_forest_classifier)\n"
      ],
      "execution_count": null,
      "outputs": [
        {
          "output_type": "stream",
          "text": [
            "[[13125     1]\n",
            " [ 3368     6]]\n"
          ],
          "name": "stdout"
        }
      ]
    },
    {
      "cell_type": "code",
      "metadata": {
        "id": "HW6L-zKH4itL",
        "colab_type": "code",
        "colab": {
          "base_uri": "https://localhost:8080/",
          "height": 35
        },
        "outputId": "a46c634a-4bb9-434d-a38a-6c74025e7ad0"
      },
      "source": [
        "numerator = cm_random_forest_classifier[0][0] + cm_random_forest_classifier[1][1]\n",
        "denominator = sum(cm_random_forest_classifier[0]) + sum(cm_random_forest_classifier[1])\n",
        "acc_rfc = (numerator/denominator) * 100\n",
        "print(\"Accuracy : \",round(acc_rfc,2),\"%\")\n"
      ],
      "execution_count": null,
      "outputs": [
        {
          "output_type": "stream",
          "text": [
            "Accuracy :  79.58 %\n"
          ],
          "name": "stdout"
        }
      ]
    },
    {
      "cell_type": "code",
      "metadata": {
        "id": "yMAh13MvixTV",
        "colab_type": "code",
        "colab": {
          "base_uri": "https://localhost:8080/",
          "height": 35
        },
        "outputId": "0c27fa3e-f995-4f7c-d2c6-cfbfd02097c4"
      },
      "source": [
        "precision_recall_fscore_support(y_test, y_pred, average='macro')"
      ],
      "execution_count": null,
      "outputs": [
        {
          "output_type": "execute_result",
          "data": {
            "text/plain": [
              "(0.8264675056950568, 0.5008510600056125, 0.444902344962928, None)"
            ]
          },
          "metadata": {
            "tags": []
          },
          "execution_count": 39
        }
      ]
    },
    {
      "cell_type": "code",
      "metadata": {
        "id": "gATbtlJt4lMq",
        "colab_type": "code",
        "colab": {}
      },
      "source": [
        "xgb_classifier = XGBClassifier()\n",
        "xgb_classifier.fit(X_train,y_train)\n",
        "y_pred_xgb = xgb_classifier.predict(X_test)"
      ],
      "execution_count": null,
      "outputs": []
    },
    {
      "cell_type": "code",
      "metadata": {
        "id": "I-ArmR784rLT",
        "colab_type": "code",
        "colab": {
          "base_uri": "https://localhost:8080/",
          "height": 52
        },
        "outputId": "01ddb1aa-b223-4836-f263-6cc07a44510f"
      },
      "source": [
        "cm_xgb_classifier = confusion_matrix(y_test,y_pred_xgb)\n",
        "print(cm_xgb_classifier)"
      ],
      "execution_count": null,
      "outputs": [
        {
          "output_type": "stream",
          "text": [
            "[[12852   274]\n",
            " [ 2923   451]]\n"
          ],
          "name": "stdout"
        }
      ]
    },
    {
      "cell_type": "code",
      "metadata": {
        "id": "A-fT5cW54vK9",
        "colab_type": "code",
        "colab": {
          "base_uri": "https://localhost:8080/",
          "height": 35
        },
        "outputId": "10794a8a-75c7-4c79-c635-884730dde183"
      },
      "source": [
        "numerator = cm_xgb_classifier[0][0] + cm_xgb_classifier[1][1]\n",
        "denominator = sum(cm_xgb_classifier[0]) + sum(cm_xgb_classifier[1])\n",
        "acc_xgb = (numerator/denominator) * 100\n",
        "print(\"Accuracy : \",round(acc_xgb,2),\"%\")\n"
      ],
      "execution_count": null,
      "outputs": [
        {
          "output_type": "stream",
          "text": [
            "Accuracy :  80.62 %\n"
          ],
          "name": "stdout"
        }
      ]
    },
    {
      "cell_type": "code",
      "metadata": {
        "id": "Q7ZuRlVx4xod",
        "colab_type": "code",
        "colab": {
          "base_uri": "https://localhost:8080/",
          "height": 35
        },
        "outputId": "07bb73f6-0562-4308-9552-70cbf002adbe"
      },
      "source": [
        "f1 = f1_score(y_test, y_pred_xgb) \n",
        "print('f1 score XGB is = ' + str(f1))"
      ],
      "execution_count": null,
      "outputs": [
        {
          "output_type": "stream",
          "text": [
            "f1 score XGB is = 0.22005367162722614\n"
          ],
          "name": "stdout"
        }
      ]
    },
    {
      "cell_type": "code",
      "metadata": {
        "id": "qNq_H2mJ07Hl",
        "colab_type": "code",
        "colab": {
          "base_uri": "https://localhost:8080/",
          "height": 35
        },
        "outputId": "1b833cbb-14b4-4422-b62d-04477d05218f"
      },
      "source": [
        "#precision_score(y_test, y_pred_xgb, average='macro')\n",
        "#print(precision_score)\n",
        "precision_recall_fscore_support(y_test, y_pred_xgb, average='macro')\n"
      ],
      "execution_count": null,
      "outputs": [
        {
          "output_type": "execute_result",
          "data": {
            "text/plain": [
              "(0.7183878900486365, 0.5563973176492563, 0.5547173309521896, None)"
            ]
          },
          "metadata": {
            "tags": []
          },
          "execution_count": 38
        }
      ]
    },
    {
      "cell_type": "code",
      "metadata": {
        "id": "b1TcHZdZbb70",
        "colab_type": "code",
        "colab": {}
      },
      "source": [
        "import lightgbm as lgb"
      ],
      "execution_count": null,
      "outputs": []
    },
    {
      "cell_type": "code",
      "metadata": {
        "id": "QGm9_8qvcB_y",
        "colab_type": "code",
        "colab": {}
      },
      "source": [
        "d_train = lgb.Dataset(X_train, label=y_train)"
      ],
      "execution_count": null,
      "outputs": []
    },
    {
      "cell_type": "code",
      "metadata": {
        "id": "QPu-9CrQc7XM",
        "colab_type": "code",
        "colab": {}
      },
      "source": [
        "params = {}\n",
        "params['learning_rate'] = 0.003\n",
        "params['boosting_type'] = 'gbdt'\n",
        "params['objective'] = 'binary'\n",
        "params['metric'] = 'binary_logloss'\n",
        "params['sub_feature'] = 0.5\n",
        "params['num_leaves'] = 100\n",
        "params['min_data'] = 5000\n",
        "params['max_depth'] = 1000\n",
        "clf = lgb.train(params, d_train, 10000)"
      ],
      "execution_count": null,
      "outputs": []
    },
    {
      "cell_type": "code",
      "metadata": {
        "id": "i_XV8utIdCSv",
        "colab_type": "code",
        "colab": {}
      },
      "source": [
        "#Prediction\n",
        "y_pred=clf.predict(X_test)\n",
        "#convert into binary values\n",
        "for i in range(0,999):\n",
        "    if y_pred[i]>=.5:       # setting threshold to .5\n",
        "       y_pred[i]=1\n",
        "    else:  \n",
        "       y_pred[i]=0"
      ],
      "execution_count": null,
      "outputs": []
    },
    {
      "cell_type": "code",
      "metadata": {
        "id": "h05NmUt4dnDp",
        "colab_type": "code",
        "colab": {
          "base_uri": "https://localhost:8080/",
          "height": 84
        },
        "outputId": "632a336b-ac5a-46ac-aae1-f1678cb3dd45"
      },
      "source": [
        "cm = confusion_matrix(y_test, y_pred.round())\n",
        "print(\"Confusion Matrix LGB:\")\n",
        "print(cm)\n",
        "\n",
        "\n",
        "#Accuracy\n",
        "\n",
        "accuracy=accuracy_score(y_pred.round(),y_test)*100\n",
        "print(\"Accuracy LGB: \",accuracy,\"%\")\n"
      ],
      "execution_count": null,
      "outputs": [
        {
          "output_type": "stream",
          "text": [
            "Confusion Matrix LGB:\n",
            "[[12816   310]\n",
            " [ 2913   461]]\n",
            "Accuracy LGB:  80.46666666666667 %\n"
          ],
          "name": "stdout"
        }
      ]
    },
    {
      "cell_type": "code",
      "metadata": {
        "id": "PzzkEoBgeHqF",
        "colab_type": "code",
        "colab": {
          "base_uri": "https://localhost:8080/",
          "height": 34
        },
        "outputId": "0c87a1af-18e2-4e31-e3f8-091590be58db"
      },
      "source": [
        ""
      ],
      "execution_count": null,
      "outputs": [
        {
          "output_type": "stream",
          "text": [
            "Accuracy LGB:  80.46666666666667 %\n"
          ],
          "name": "stdout"
        }
      ]
    },
    {
      "cell_type": "code",
      "metadata": {
        "id": "-AMyLTpJiTCz",
        "colab_type": "code",
        "colab": {
          "base_uri": "https://localhost:8080/",
          "height": 34
        },
        "outputId": "10960dd2-922e-4e0c-b182-31cb7f409988"
      },
      "source": [
        "f1 = f1_score(y_test, y_pred.round()) \n",
        "print('f1 score of lgb is = ' + str(f1))"
      ],
      "execution_count": null,
      "outputs": [
        {
          "output_type": "stream",
          "text": [
            "f1 score of lgb is = 0.14089709762532981\n"
          ],
          "name": "stdout"
        }
      ]
    },
    {
      "cell_type": "code",
      "metadata": {
        "id": "afm9Lypc3Kfv",
        "colab_type": "code",
        "colab": {
          "base_uri": "https://localhost:8080/",
          "height": 35
        },
        "outputId": "4a6bfab1-db46-4c2b-e8b4-092a8b48b572"
      },
      "source": [
        "precision_recall_fscore_support(y_test, y_pred, average='macro')"
      ],
      "execution_count": null,
      "outputs": [
        {
          "output_type": "execute_result",
          "data": {
            "text/plain": [
              "(0.8264675056950568, 0.5008510600056125, 0.444902344962928, None)"
            ]
          },
          "metadata": {
            "tags": []
          },
          "execution_count": 40
        }
      ]
    },
    {
      "cell_type": "code",
      "metadata": {
        "id": "yoGlMWbHgLZp",
        "colab_type": "code",
        "colab": {}
      },
      "source": [
        " from sklearn.svm import SVC"
      ],
      "execution_count": null,
      "outputs": []
    },
    {
      "cell_type": "code",
      "metadata": {
        "id": "gZY8DTOChP-S",
        "colab_type": "code",
        "colab": {}
      },
      "source": [
        "clf = SVC(gamma='auto')\n",
        "clf.fit(X_train, y_train)"
      ],
      "execution_count": null,
      "outputs": []
    }
  ]
}